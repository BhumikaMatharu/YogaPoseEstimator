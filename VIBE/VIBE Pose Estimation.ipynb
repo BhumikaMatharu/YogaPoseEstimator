{
 "cells": [
  {
   "cell_type": "code",
   "execution_count": 26,
   "metadata": {
    "collapsed": true
   },
   "outputs": [
    {
     "data": {
      "text/plain": [
       "'\\nREFERENCES\\n1. https://thispointer.com/how-to-save-numpy-array-to-a-csv-file-using-numpy-savetxt-in-python/\\n2. https://stackoverflow.com/questions/54361557/appending-to-file-using-savetxt/54361619\\n3. https://www.kaggle.com/pierrek20/multiclass-iris-prediction-with-tensorflow-keras\\n4. https://stackoverflow.com/questions/29647749/seaborn-showing-scientific-notation-in-heatmap-for-3-digit-numbers\\n5. https://stackoverflow.com/questions/35572000/how-can-i-plot-a-confusion-matrix\\n'"
      ]
     },
     "execution_count": 26,
     "metadata": {},
     "output_type": "execute_result"
    }
   ],
   "source": [
    "'''\n",
    "REFERENCES\n",
    "1. https://thispointer.com/how-to-save-numpy-array-to-a-csv-file-using-numpy-savetxt-in-python/\n",
    "2. https://stackoverflow.com/questions/54361557/appending-to-file-using-savetxt/54361619\n",
    "3. https://www.kaggle.com/pierrek20/multiclass-iris-prediction-with-tensorflow-keras\n",
    "4. https://stackoverflow.com/questions/29647749/seaborn-showing-scientific-notation-in-heatmap-for-3-digit-numbers\n",
    "5. https://stackoverflow.com/questions/35572000/how-can-i-plot-a-confusion-matrix\n",
    "'''"
   ]
  },
  {
   "cell_type": "markdown",
   "metadata": {},
   "source": [
    "# VIBE YOGA POSE ESTIMATION"
   ]
  },
  {
   "cell_type": "code",
   "execution_count": 27,
   "metadata": {},
   "outputs": [],
   "source": [
    "import warnings\n",
    "warnings.filterwarnings('ignore')"
   ]
  },
  {
   "cell_type": "code",
   "execution_count": 28,
   "metadata": {},
   "outputs": [],
   "source": [
    "import pandas as pd\n",
    "from sklearn.preprocessing import LabelEncoder\n",
    "from keras.utils import np_utils\n",
    "from sklearn.model_selection import train_test_split\n",
    "import seaborn as sn\n",
    "import matplotlib.pyplot as plt\n",
    "from sklearn.metrics import confusion_matrix\n",
    "import numpy as np"
   ]
  },
  {
   "cell_type": "code",
   "execution_count": 29,
   "metadata": {},
   "outputs": [],
   "source": [
    "from keras.models import Sequential\n",
    "from keras.layers import Dense"
   ]
  },
  {
   "cell_type": "markdown",
   "metadata": {},
   "source": [
    "### Read Training Data"
   ]
  },
  {
   "cell_type": "code",
   "execution_count": 30,
   "metadata": {},
   "outputs": [
    {
     "data": {
      "text/html": [
       "<div>\n",
       "<style scoped>\n",
       "    .dataframe tbody tr th:only-of-type {\n",
       "        vertical-align: middle;\n",
       "    }\n",
       "\n",
       "    .dataframe tbody tr th {\n",
       "        vertical-align: top;\n",
       "    }\n",
       "\n",
       "    .dataframe thead th {\n",
       "        text-align: right;\n",
       "    }\n",
       "</style>\n",
       "<table border=\"1\" class=\"dataframe\">\n",
       "  <thead>\n",
       "    <tr style=\"text-align: right;\">\n",
       "      <th></th>\n",
       "      <th>0</th>\n",
       "      <th>1</th>\n",
       "      <th>2</th>\n",
       "      <th>3</th>\n",
       "      <th>4</th>\n",
       "      <th>5</th>\n",
       "      <th>6</th>\n",
       "      <th>7</th>\n",
       "      <th>8</th>\n",
       "      <th>9</th>\n",
       "      <th>...</th>\n",
       "      <th>138</th>\n",
       "      <th>139</th>\n",
       "      <th>140</th>\n",
       "      <th>141</th>\n",
       "      <th>142</th>\n",
       "      <th>143</th>\n",
       "      <th>144</th>\n",
       "      <th>145</th>\n",
       "      <th>146</th>\n",
       "      <th>147</th>\n",
       "    </tr>\n",
       "  </thead>\n",
       "  <tbody>\n",
       "    <tr>\n",
       "      <th>0</th>\n",
       "      <td>-0.067365</td>\n",
       "      <td>-0.841839</td>\n",
       "      <td>-0.277034</td>\n",
       "      <td>-0.066560</td>\n",
       "      <td>-0.744217</td>\n",
       "      <td>-0.095676</td>\n",
       "      <td>-0.237887</td>\n",
       "      <td>-0.680133</td>\n",
       "      <td>-0.040026</td>\n",
       "      <td>-0.466865</td>\n",
       "      <td>...</td>\n",
       "      <td>-0.098003</td>\n",
       "      <td>-0.882884</td>\n",
       "      <td>-0.240226</td>\n",
       "      <td>0.013323</td>\n",
       "      <td>-0.864786</td>\n",
       "      <td>-0.152407</td>\n",
       "      <td>-0.135449</td>\n",
       "      <td>-0.866718</td>\n",
       "      <td>-0.141739</td>\n",
       "      <td>10</td>\n",
       "    </tr>\n",
       "    <tr>\n",
       "      <th>1</th>\n",
       "      <td>-0.066804</td>\n",
       "      <td>-0.838090</td>\n",
       "      <td>-0.276292</td>\n",
       "      <td>-0.065783</td>\n",
       "      <td>-0.743840</td>\n",
       "      <td>-0.093549</td>\n",
       "      <td>-0.236406</td>\n",
       "      <td>-0.680317</td>\n",
       "      <td>-0.036085</td>\n",
       "      <td>-0.463347</td>\n",
       "      <td>...</td>\n",
       "      <td>-0.097192</td>\n",
       "      <td>-0.880066</td>\n",
       "      <td>-0.240425</td>\n",
       "      <td>0.014179</td>\n",
       "      <td>-0.863576</td>\n",
       "      <td>-0.152486</td>\n",
       "      <td>-0.134390</td>\n",
       "      <td>-0.866332</td>\n",
       "      <td>-0.141480</td>\n",
       "      <td>10</td>\n",
       "    </tr>\n",
       "    <tr>\n",
       "      <th>2</th>\n",
       "      <td>-0.071513</td>\n",
       "      <td>-0.835238</td>\n",
       "      <td>-0.275110</td>\n",
       "      <td>-0.067524</td>\n",
       "      <td>-0.743250</td>\n",
       "      <td>-0.091508</td>\n",
       "      <td>-0.236445</td>\n",
       "      <td>-0.680360</td>\n",
       "      <td>-0.031975</td>\n",
       "      <td>-0.461186</td>\n",
       "      <td>...</td>\n",
       "      <td>-0.101402</td>\n",
       "      <td>-0.877672</td>\n",
       "      <td>-0.239381</td>\n",
       "      <td>0.011256</td>\n",
       "      <td>-0.862558</td>\n",
       "      <td>-0.153088</td>\n",
       "      <td>-0.136844</td>\n",
       "      <td>-0.865256</td>\n",
       "      <td>-0.139726</td>\n",
       "      <td>10</td>\n",
       "    </tr>\n",
       "    <tr>\n",
       "      <th>3</th>\n",
       "      <td>-0.074013</td>\n",
       "      <td>-0.834658</td>\n",
       "      <td>-0.273729</td>\n",
       "      <td>-0.068007</td>\n",
       "      <td>-0.742925</td>\n",
       "      <td>-0.090150</td>\n",
       "      <td>-0.235991</td>\n",
       "      <td>-0.680870</td>\n",
       "      <td>-0.029764</td>\n",
       "      <td>-0.459809</td>\n",
       "      <td>...</td>\n",
       "      <td>-0.103399</td>\n",
       "      <td>-0.877173</td>\n",
       "      <td>-0.237681</td>\n",
       "      <td>0.010199</td>\n",
       "      <td>-0.861870</td>\n",
       "      <td>-0.152789</td>\n",
       "      <td>-0.137545</td>\n",
       "      <td>-0.864845</td>\n",
       "      <td>-0.137626</td>\n",
       "      <td>10</td>\n",
       "    </tr>\n",
       "    <tr>\n",
       "      <th>4</th>\n",
       "      <td>-0.075496</td>\n",
       "      <td>-0.834307</td>\n",
       "      <td>-0.272843</td>\n",
       "      <td>-0.068332</td>\n",
       "      <td>-0.742578</td>\n",
       "      <td>-0.089336</td>\n",
       "      <td>-0.235720</td>\n",
       "      <td>-0.681148</td>\n",
       "      <td>-0.028435</td>\n",
       "      <td>-0.458896</td>\n",
       "      <td>...</td>\n",
       "      <td>-0.104595</td>\n",
       "      <td>-0.876814</td>\n",
       "      <td>-0.236558</td>\n",
       "      <td>0.009530</td>\n",
       "      <td>-0.861242</td>\n",
       "      <td>-0.152473</td>\n",
       "      <td>-0.138005</td>\n",
       "      <td>-0.864373</td>\n",
       "      <td>-0.136294</td>\n",
       "      <td>10</td>\n",
       "    </tr>\n",
       "  </tbody>\n",
       "</table>\n",
       "<p>5 rows × 148 columns</p>\n",
       "</div>"
      ],
      "text/plain": [
       "        0         1         2         3         4         5         6    \\\n",
       "0 -0.067365 -0.841839 -0.277034 -0.066560 -0.744217 -0.095676 -0.237887   \n",
       "1 -0.066804 -0.838090 -0.276292 -0.065783 -0.743840 -0.093549 -0.236406   \n",
       "2 -0.071513 -0.835238 -0.275110 -0.067524 -0.743250 -0.091508 -0.236445   \n",
       "3 -0.074013 -0.834658 -0.273729 -0.068007 -0.742925 -0.090150 -0.235991   \n",
       "4 -0.075496 -0.834307 -0.272843 -0.068332 -0.742578 -0.089336 -0.235720   \n",
       "\n",
       "        7         8         9    ...       138       139       140       141  \\\n",
       "0 -0.680133 -0.040026 -0.466865  ... -0.098003 -0.882884 -0.240226  0.013323   \n",
       "1 -0.680317 -0.036085 -0.463347  ... -0.097192 -0.880066 -0.240425  0.014179   \n",
       "2 -0.680360 -0.031975 -0.461186  ... -0.101402 -0.877672 -0.239381  0.011256   \n",
       "3 -0.680870 -0.029764 -0.459809  ... -0.103399 -0.877173 -0.237681  0.010199   \n",
       "4 -0.681148 -0.028435 -0.458896  ... -0.104595 -0.876814 -0.236558  0.009530   \n",
       "\n",
       "        142       143       144       145       146  147  \n",
       "0 -0.864786 -0.152407 -0.135449 -0.866718 -0.141739   10  \n",
       "1 -0.863576 -0.152486 -0.134390 -0.866332 -0.141480   10  \n",
       "2 -0.862558 -0.153088 -0.136844 -0.865256 -0.139726   10  \n",
       "3 -0.861870 -0.152789 -0.137545 -0.864845 -0.137626   10  \n",
       "4 -0.861242 -0.152473 -0.138005 -0.864373 -0.136294   10  \n",
       "\n",
       "[5 rows x 148 columns]"
      ]
     },
     "execution_count": 30,
     "metadata": {},
     "output_type": "execute_result"
    }
   ],
   "source": [
    "input_df = pd.read_csv('./Datasets/training_data_3d_joints.csv', header=None, sep=' ')\n",
    "input_df.head()"
   ]
  },
  {
   "cell_type": "code",
   "execution_count": 31,
   "metadata": {},
   "outputs": [
    {
     "name": "stdout",
     "output_type": "stream",
     "text": [
      "Initial Shape:  (66698, 148)\n",
      "Final Shape:  (29214, 148)\n"
     ]
    }
   ],
   "source": [
    "input_df = input_df.round(2)\n",
    "print('Initial Shape: ', input_df.shape)\n",
    "input_df.drop_duplicates(inplace=True)\n",
    "print('Final Shape: ', input_df.shape)"
   ]
  },
  {
   "cell_type": "markdown",
   "metadata": {},
   "source": [
    "### Split Features and Label"
   ]
  },
  {
   "cell_type": "code",
   "execution_count": 32,
   "metadata": {},
   "outputs": [],
   "source": [
    "X, y = input_df.iloc[:, :-1], input_df.iloc[:, [-1]]"
   ]
  },
  {
   "cell_type": "markdown",
   "metadata": {},
   "source": [
    "### One Hot Encoding on Labels"
   ]
  },
  {
   "cell_type": "code",
   "execution_count": 33,
   "metadata": {},
   "outputs": [
    {
     "data": {
      "text/plain": [
       "array([[0., 0., 0., ..., 0., 0., 1.],\n",
       "       [0., 0., 0., ..., 0., 0., 1.],\n",
       "       [0., 0., 0., ..., 0., 0., 1.],\n",
       "       ...,\n",
       "       [0., 0., 0., ..., 0., 0., 0.],\n",
       "       [0., 0., 0., ..., 0., 0., 0.],\n",
       "       [0., 0., 0., ..., 0., 0., 0.]], dtype=float32)"
      ]
     },
     "execution_count": 33,
     "metadata": {},
     "output_type": "execute_result"
    }
   ],
   "source": [
    "encoder = LabelEncoder()\n",
    "encoder.fit(y)\n",
    "encoded_Y = encoder.transform(y)\n",
    "input_labels_y = np_utils.to_categorical(y)\n",
    "input_labels_y"
   ]
  },
  {
   "cell_type": "markdown",
   "metadata": {},
   "source": [
    "### Split data for training and testing"
   ]
  },
  {
   "cell_type": "code",
   "execution_count": 34,
   "metadata": {},
   "outputs": [
    {
     "name": "stdout",
     "output_type": "stream",
     "text": [
      "X_train: (23371, 147)  y_train: (23371, 11)\n",
      "X_test: (5843, 147)  y_test: (5843, 11)\n"
     ]
    }
   ],
   "source": [
    "X_train, X_test, y_train, y_test = train_test_split(X, input_labels_y, random_state = 0, stratify=y, test_size=0.2)\n",
    "print(\"X_train:\", X_train.shape, \" y_train:\", y_train.shape)\n",
    "print(\"X_test:\", X_test.shape, \" y_test:\", y_test.shape)"
   ]
  },
  {
   "cell_type": "markdown",
   "metadata": {},
   "source": [
    "### Generate the CNN model"
   ]
  },
  {
   "cell_type": "code",
   "execution_count": 35,
   "metadata": {},
   "outputs": [
    {
     "name": "stdout",
     "output_type": "stream",
     "text": [
      "Epoch 1/4\n",
      "23371/23371 [==============================] - 17s 712us/step - loss: 0.4755 - accuracy: 0.8400\n",
      "Epoch 2/4\n",
      "23371/23371 [==============================] - 16s 687us/step - loss: 0.1125 - accuracy: 0.9644\n",
      "Epoch 3/4\n",
      "23371/23371 [==============================] - 16s 688us/step - loss: 0.0715 - accuracy: 0.9779\n",
      "Epoch 4/4\n",
      "23371/23371 [==============================] - 16s 685us/step - loss: 0.0543 - accuracy: 0.9837\n"
     ]
    },
    {
     "data": {
      "text/plain": [
       "<keras.callbacks.callbacks.History at 0x7f7c49ad21d0>"
      ]
     },
     "execution_count": 35,
     "metadata": {},
     "output_type": "execute_result"
    }
   ],
   "source": [
    "model = Sequential()\n",
    "model.add(Dense(8, input_dim = X_train.shape[1] , activation = 'relu'))\n",
    "model.add(Dense(10, activation = 'relu'))\n",
    "model.add(Dense(10, activation = 'relu'))\n",
    "model.add(Dense(10, activation = 'relu'))\n",
    "model.add(Dense(11, activation = 'softmax'))\n",
    "\n",
    "model.compile(loss = 'categorical_crossentropy' , optimizer = 'adam' , metrics = ['accuracy'] )\n",
    "\n",
    "model.fit(X_train, y_train, epochs = 4, batch_size = 2)"
   ]
  },
  {
   "cell_type": "code",
   "execution_count": 36,
   "metadata": {},
   "outputs": [
    {
     "name": "stdout",
     "output_type": "stream",
     "text": [
      "Model: \"sequential_2\"\n",
      "_________________________________________________________________\n",
      "Layer (type)                 Output Shape              Param #   \n",
      "=================================================================\n",
      "dense_6 (Dense)              (None, 8)                 1184      \n",
      "_________________________________________________________________\n",
      "dense_7 (Dense)              (None, 10)                90        \n",
      "_________________________________________________________________\n",
      "dense_8 (Dense)              (None, 10)                110       \n",
      "_________________________________________________________________\n",
      "dense_9 (Dense)              (None, 10)                110       \n",
      "_________________________________________________________________\n",
      "dense_10 (Dense)             (None, 11)                121       \n",
      "=================================================================\n",
      "Total params: 1,615\n",
      "Trainable params: 1,615\n",
      "Non-trainable params: 0\n",
      "_________________________________________________________________\n"
     ]
    }
   ],
   "source": [
    "model.summary()"
   ]
  },
  {
   "cell_type": "markdown",
   "metadata": {},
   "source": [
    "### Training Results"
   ]
  },
  {
   "cell_type": "code",
   "execution_count": 37,
   "metadata": {
    "scrolled": true
   },
   "outputs": [
    {
     "name": "stdout",
     "output_type": "stream",
     "text": [
      "5843/5843 [==============================] - 0s 28us/step\n",
      "\n",
      "accuracy: 98.94%\n"
     ]
    }
   ],
   "source": [
    "scores = model.evaluate(X_test, y_test)\n",
    "print(\"\\n%s: %.2f%%\" % (model.metrics_names[1], scores[1]*100))"
   ]
  },
  {
   "cell_type": "code",
   "execution_count": 38,
   "metadata": {},
   "outputs": [
    {
     "name": "stdout",
     "output_type": "stream",
     "text": [
      "23371/23371 [==============================] - 0s 20us/step\n",
      "\n",
      "accuracy: 98.81%\n"
     ]
    }
   ],
   "source": [
    "scores1 = model.evaluate(X_train, y_train)\n",
    "print(\"\\n%s: %.2f%%\" % (model.metrics_names[1], scores1[1]*100))"
   ]
  },
  {
   "cell_type": "code",
   "execution_count": 39,
   "metadata": {},
   "outputs": [
    {
     "data": {
      "text/plain": [
       "<matplotlib.axes._subplots.AxesSubplot at 0x7f7c49bd0f10>"
      ]
     },
     "execution_count": 39,
     "metadata": {},
     "output_type": "execute_result"
    },
    {
     "data": {
      "image/png": "[encoded data removed]",
      "text/plain": [
       "<Figure size 720x504 with 2 Axes>"
      ]
     },
     "metadata": {
      "needs_background": "light"
     },
     "output_type": "display_data"
    }
   ],
   "source": [
    "vals = ['bridge', 'childs', 'downwarddog', 'mountain', 'plank', 'seatedforwardbend', 'tree', 'trianglepose', 'warrior1', 'warrior2']\n",
    "y_pred = model.predict_classes(X_test)\n",
    "cf_matrix = confusion_matrix(np.argmax(y_test, axis=1), y_pred)\n",
    "df_cm = pd.DataFrame(cf_matrix, index = [i for i in vals],\n",
    "                  columns = [i for i in vals])\n",
    "plt.figure(figsize = (10,7))\n",
    "sn.heatmap(df_cm, annot=True, fmt='g')"
   ]
  },
  {
   "cell_type": "markdown",
   "metadata": {},
   "source": [
    "### Save the model"
   ]
  },
  {
   "cell_type": "code",
   "execution_count": 40,
   "metadata": {},
   "outputs": [],
   "source": [
    "import pickle\n",
    "fileName = \"view_classification_model.pkl\"\n",
    "pickle.dump(model, open(fileName, 'wb'))"
   ]
  },
  {
   "cell_type": "markdown",
   "metadata": {},
   "source": [
    "### Testing model on new dataset"
   ]
  },
  {
   "cell_type": "code",
   "execution_count": 41,
   "metadata": {},
   "outputs": [
    {
     "data": {
      "text/html": [
       "<div>\n",
       "<style scoped>\n",
       "    .dataframe tbody tr th:only-of-type {\n",
       "        vertical-align: middle;\n",
       "    }\n",
       "\n",
       "    .dataframe tbody tr th {\n",
       "        vertical-align: top;\n",
       "    }\n",
       "\n",
       "    .dataframe thead th {\n",
       "        text-align: right;\n",
       "    }\n",
       "</style>\n",
       "<table border=\"1\" class=\"dataframe\">\n",
       "  <thead>\n",
       "    <tr style=\"text-align: right;\">\n",
       "      <th></th>\n",
       "      <th>0</th>\n",
       "      <th>1</th>\n",
       "      <th>2</th>\n",
       "      <th>3</th>\n",
       "      <th>4</th>\n",
       "      <th>5</th>\n",
       "      <th>6</th>\n",
       "      <th>7</th>\n",
       "      <th>8</th>\n",
       "      <th>9</th>\n",
       "      <th>...</th>\n",
       "      <th>138</th>\n",
       "      <th>139</th>\n",
       "      <th>140</th>\n",
       "      <th>141</th>\n",
       "      <th>142</th>\n",
       "      <th>143</th>\n",
       "      <th>144</th>\n",
       "      <th>145</th>\n",
       "      <th>146</th>\n",
       "      <th>147</th>\n",
       "    </tr>\n",
       "  </thead>\n",
       "  <tbody>\n",
       "    <tr>\n",
       "      <th>0</th>\n",
       "      <td>0.130631</td>\n",
       "      <td>-0.838264</td>\n",
       "      <td>-0.270695</td>\n",
       "      <td>0.031969</td>\n",
       "      <td>-0.722193</td>\n",
       "      <td>-0.130927</td>\n",
       "      <td>-0.155639</td>\n",
       "      <td>-0.647355</td>\n",
       "      <td>-0.126734</td>\n",
       "      <td>-0.409745</td>\n",
       "      <td>...</td>\n",
       "      <td>0.075375</td>\n",
       "      <td>-0.869855</td>\n",
       "      <td>-0.267065</td>\n",
       "      <td>0.095293</td>\n",
       "      <td>-0.858654</td>\n",
       "      <td>-0.125793</td>\n",
       "      <td>-0.019665</td>\n",
       "      <td>-0.836857</td>\n",
       "      <td>-0.223080</td>\n",
       "      <td>10</td>\n",
       "    </tr>\n",
       "    <tr>\n",
       "      <th>1</th>\n",
       "      <td>0.131311</td>\n",
       "      <td>-0.834411</td>\n",
       "      <td>-0.273056</td>\n",
       "      <td>0.031568</td>\n",
       "      <td>-0.721525</td>\n",
       "      <td>-0.131720</td>\n",
       "      <td>-0.156378</td>\n",
       "      <td>-0.646990</td>\n",
       "      <td>-0.125367</td>\n",
       "      <td>-0.410467</td>\n",
       "      <td>...</td>\n",
       "      <td>0.076570</td>\n",
       "      <td>-0.866897</td>\n",
       "      <td>-0.269925</td>\n",
       "      <td>0.096409</td>\n",
       "      <td>-0.857642</td>\n",
       "      <td>-0.128339</td>\n",
       "      <td>-0.019085</td>\n",
       "      <td>-0.836108</td>\n",
       "      <td>-0.225231</td>\n",
       "      <td>10</td>\n",
       "    </tr>\n",
       "    <tr>\n",
       "      <th>2</th>\n",
       "      <td>0.129973</td>\n",
       "      <td>-0.832788</td>\n",
       "      <td>-0.274868</td>\n",
       "      <td>0.030479</td>\n",
       "      <td>-0.721291</td>\n",
       "      <td>-0.132289</td>\n",
       "      <td>-0.157243</td>\n",
       "      <td>-0.647254</td>\n",
       "      <td>-0.123629</td>\n",
       "      <td>-0.411503</td>\n",
       "      <td>...</td>\n",
       "      <td>0.075566</td>\n",
       "      <td>-0.865863</td>\n",
       "      <td>-0.271527</td>\n",
       "      <td>0.096363</td>\n",
       "      <td>-0.857156</td>\n",
       "      <td>-0.130037</td>\n",
       "      <td>-0.020040</td>\n",
       "      <td>-0.836281</td>\n",
       "      <td>-0.225822</td>\n",
       "      <td>10</td>\n",
       "    </tr>\n",
       "    <tr>\n",
       "      <th>3</th>\n",
       "      <td>0.127865</td>\n",
       "      <td>-0.831996</td>\n",
       "      <td>-0.276454</td>\n",
       "      <td>0.029339</td>\n",
       "      <td>-0.720752</td>\n",
       "      <td>-0.133016</td>\n",
       "      <td>-0.158029</td>\n",
       "      <td>-0.647146</td>\n",
       "      <td>-0.122828</td>\n",
       "      <td>-0.412387</td>\n",
       "      <td>...</td>\n",
       "      <td>0.073524</td>\n",
       "      <td>-0.865157</td>\n",
       "      <td>-0.272738</td>\n",
       "      <td>0.095357</td>\n",
       "      <td>-0.856462</td>\n",
       "      <td>-0.131425</td>\n",
       "      <td>-0.021716</td>\n",
       "      <td>-0.835712</td>\n",
       "      <td>-0.226214</td>\n",
       "      <td>10</td>\n",
       "    </tr>\n",
       "    <tr>\n",
       "      <th>4</th>\n",
       "      <td>0.125585</td>\n",
       "      <td>-0.832354</td>\n",
       "      <td>-0.276499</td>\n",
       "      <td>0.028426</td>\n",
       "      <td>-0.720787</td>\n",
       "      <td>-0.132377</td>\n",
       "      <td>-0.158732</td>\n",
       "      <td>-0.647469</td>\n",
       "      <td>-0.120926</td>\n",
       "      <td>-0.413009</td>\n",
       "      <td>...</td>\n",
       "      <td>0.071244</td>\n",
       "      <td>-0.865441</td>\n",
       "      <td>-0.272224</td>\n",
       "      <td>0.094376</td>\n",
       "      <td>-0.856420</td>\n",
       "      <td>-0.131141</td>\n",
       "      <td>-0.023483</td>\n",
       "      <td>-0.835755</td>\n",
       "      <td>-0.224840</td>\n",
       "      <td>10</td>\n",
       "    </tr>\n",
       "  </tbody>\n",
       "</table>\n",
       "<p>5 rows × 148 columns</p>\n",
       "</div>"
      ],
      "text/plain": [
       "        0         1         2         3         4         5         6    \\\n",
       "0  0.130631 -0.838264 -0.270695  0.031969 -0.722193 -0.130927 -0.155639   \n",
       "1  0.131311 -0.834411 -0.273056  0.031568 -0.721525 -0.131720 -0.156378   \n",
       "2  0.129973 -0.832788 -0.274868  0.030479 -0.721291 -0.132289 -0.157243   \n",
       "3  0.127865 -0.831996 -0.276454  0.029339 -0.720752 -0.133016 -0.158029   \n",
       "4  0.125585 -0.832354 -0.276499  0.028426 -0.720787 -0.132377 -0.158732   \n",
       "\n",
       "        7         8         9    ...       138       139       140       141  \\\n",
       "0 -0.647355 -0.126734 -0.409745  ...  0.075375 -0.869855 -0.267065  0.095293   \n",
       "1 -0.646990 -0.125367 -0.410467  ...  0.076570 -0.866897 -0.269925  0.096409   \n",
       "2 -0.647254 -0.123629 -0.411503  ...  0.075566 -0.865863 -0.271527  0.096363   \n",
       "3 -0.647146 -0.122828 -0.412387  ...  0.073524 -0.865157 -0.272738  0.095357   \n",
       "4 -0.647469 -0.120926 -0.413009  ...  0.071244 -0.865441 -0.272224  0.094376   \n",
       "\n",
       "        142       143       144       145       146  147  \n",
       "0 -0.858654 -0.125793 -0.019665 -0.836857 -0.223080   10  \n",
       "1 -0.857642 -0.128339 -0.019085 -0.836108 -0.225231   10  \n",
       "2 -0.857156 -0.130037 -0.020040 -0.836281 -0.225822   10  \n",
       "3 -0.856462 -0.131425 -0.021716 -0.835712 -0.226214   10  \n",
       "4 -0.856420 -0.131141 -0.023483 -0.835755 -0.224840   10  \n",
       "\n",
       "[5 rows x 148 columns]"
      ]
     },
     "execution_count": 41,
     "metadata": {},
     "output_type": "execute_result"
    }
   ],
   "source": [
    "test_df = pd.read_csv('./Datasets/test_data_3d_joints.csv', header=None, sep=' ')\n",
    "test_df.head()"
   ]
  },
  {
   "cell_type": "code",
   "execution_count": 42,
   "metadata": {},
   "outputs": [
    {
     "name": "stdout",
     "output_type": "stream",
     "text": [
      "Initial Shape:  (8499, 148)\n",
      "Final Shape:  (6986, 148)\n"
     ]
    }
   ],
   "source": [
    "test_df = test_df.round(3)\n",
    "print('Initial Shape: ', test_df.shape)\n",
    "test_df.drop_duplicates(inplace=True)\n",
    "print('Final Shape: ', test_df.shape)"
   ]
  },
  {
   "cell_type": "code",
   "execution_count": 43,
   "metadata": {},
   "outputs": [],
   "source": [
    "X_new, y_new = test_df.iloc[:, :-1], test_df.iloc[:, [-1]]\n",
    "y_new_encoded = np_utils.to_categorical(y_new)"
   ]
  },
  {
   "cell_type": "code",
   "execution_count": 44,
   "metadata": {},
   "outputs": [
    {
     "name": "stdout",
     "output_type": "stream",
     "text": [
      "6986/6986 [==============================] - 0s 20us/step\n",
      "\n",
      "accuracy: 93.66%\n"
     ]
    }
   ],
   "source": [
    "scores_new_test = model.evaluate(X_new, y_new_encoded)\n",
    "print(\"\\n%s: %.2f%%\" % (model.metrics_names[1], scores_new_test[1]*100))"
   ]
  },
  {
   "cell_type": "code",
   "execution_count": 45,
   "metadata": {},
   "outputs": [
    {
     "data": {
      "text/plain": [
       "<matplotlib.axes._subplots.AxesSubplot at 0x7f7c4a6f44d0>"
      ]
     },
     "execution_count": 45,
     "metadata": {},
     "output_type": "execute_result"
    },
    {
     "data": {
      "image/png": "[encoded data removed]",
      "text/plain": [
       "<Figure size 720x504 with 2 Axes>"
      ]
     },
     "metadata": {
      "needs_background": "light"
     },
     "output_type": "display_data"
    }
   ],
   "source": [
    "y_test_pred = model.predict_classes(X_new)\n",
    "cf_matrix_new = confusion_matrix(y_new, y_test_pred)\n",
    "\n",
    "confusion_df = pd.DataFrame(cf_matrix_new, index = [i for i in vals], columns = [i for i in vals])\n",
    "plt.figure(figsize = (10,7))\n",
    "sn.heatmap(confusion_df, annot=True, fmt='g')"
   ]
  },
  {
   "cell_type": "code",
   "execution_count": null,
   "metadata": {},
   "outputs": [],
   "source": []
  },
  {
   "cell_type": "markdown",
   "metadata": {},
   "source": [
    "### Yoga Pose Estimation of YouTube Video"
   ]
  },
  {
   "cell_type": "code",
   "execution_count": 1,
   "metadata": {
    "scrolled": false
   },
   "outputs": [
    {
     "name": "stdout",
     "output_type": "stream",
     "text": [
      "=> loaded pretrained model from 'data/vibe_data/spin_model_checkpoint.pth.tar'\n",
      "Using TensorFlow backend.\n",
      "Input video number of frames 272\n",
      "Running Multi-Person-Tracker\n",
      "  0%|                                                    | 0/23 [00:00<?, ?it/s]\n",
      "Traceback (most recent call last):\n",
      "  File \"identifyYogaPose.py\", line 333, in <module>\n",
      "    main(args)\n",
      "  File \"identifyYogaPose.py\", line 127, in main\n",
      "    tracking_results = mot(image_folder)\n",
      "  File \"/home/ubuntu/anaconda3/lib/python3.7/site-packages/multi_person_tracker/mpt.py\", line 194, in __call__\n",
      "    trackers = self.run_tracker(dataloader)\n",
      "  File \"/home/ubuntu/anaconda3/lib/python3.7/site-packages/torch/autograd/grad_mode.py\", line 49, in decorate_no_grad\n",
      "    return func(*args, **kwargs)\n",
      "  File \"/home/ubuntu/anaconda3/lib/python3.7/site-packages/multi_person_tracker/mpt.py\", line 78, in run_tracker\n",
      "    predictions = self.detector(batch)\n",
      "  File \"/home/ubuntu/anaconda3/lib/python3.7/site-packages/torch/autograd/grad_mode.py\", line 49, in decorate_no_grad\n",
      "    return func(*args, **kwargs)\n",
      "  File \"/home/ubuntu/anaconda3/lib/python3.7/site-packages/yolov3/yolo.py\", line 69, in __call__\n",
      "    detections = self.model(inp_batch)\n",
      "  File \"/home/ubuntu/anaconda3/lib/python3.7/site-packages/torch/nn/modules/module.py\", line 532, in __call__\n",
      "    result = self.forward(*input, **kwargs)\n",
      "  File \"/home/ubuntu/anaconda3/lib/python3.7/site-packages/yolov3/models.py\", line 252, in forward\n",
      "    x = module(x)\n",
      "  File \"/home/ubuntu/anaconda3/lib/python3.7/site-packages/torch/nn/modules/module.py\", line 532, in __call__\n",
      "    result = self.forward(*input, **kwargs)\n",
      "  File \"/home/ubuntu/anaconda3/lib/python3.7/site-packages/torch/nn/modules/container.py\", line 100, in forward\n",
      "    input = module(input)\n",
      "  File \"/home/ubuntu/anaconda3/lib/python3.7/site-packages/torch/nn/modules/module.py\", line 532, in __call__\n",
      "    result = self.forward(*input, **kwargs)\n",
      "  File \"/home/ubuntu/anaconda3/lib/python3.7/site-packages/torch/nn/modules/conv.py\", line 345, in forward\n",
      "    return self.conv2d_forward(input, self.weight)\n",
      "  File \"/home/ubuntu/anaconda3/lib/python3.7/site-packages/torch/nn/modules/conv.py\", line 342, in conv2d_forward\n",
      "    self.padding, self.dilation, self.groups)\n",
      "RuntimeError: CUDA out of memory. Tried to allocate 32.00 MiB (GPU 0; 11.17 GiB total capacity; 1.97 GiB already allocated; 16.69 MiB free; 1.99 GiB reserved in total by PyTorch)\n"
     ]
    }
   ],
   "source": [
    "!python identifyYogaPose.py --vid_file ./InputData/Videos/DownwardDog.mp4"
   ]
  },
  {
   "cell_type": "code",
   "execution_count": null,
   "metadata": {},
   "outputs": [],
   "source": []
  },
  {
   "cell_type": "code",
   "execution_count": null,
   "metadata": {},
   "outputs": [],
   "source": []
  },
  {
   "cell_type": "code",
   "execution_count": null,
   "metadata": {},
   "outputs": [],
   "source": []
  }
 ],
 "metadata": {
  "kernelspec": {
   "display_name": "Python 3",
   "language": "python",
   "name": "python3"
  },
  "language_info": {
   "codemirror_mode": {
    "name": "ipython",
    "version": 3
   },
   "file_extension": ".py",
   "mimetype": "text/x-python",
   "name": "python",
   "nbconvert_exporter": "python",
   "pygments_lexer": "ipython3",
   "version": "3.7.7"
  }
 },
 "nbformat": 4,
 "nbformat_minor": 4
}
